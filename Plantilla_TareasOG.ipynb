{
 "cells": [
  {
   "cell_type": "markdown",
   "metadata": {},
   "source": [
    "<img style=\"float: left; margin: 30px 15px 15px 15px;\" src=\"https://pngimage.net/wp-content/uploads/2018/06/logo-iteso-png-5.png\" width=\"300\" height=\"500\" /> \n",
    "    \n",
    "    \n",
    "### <font color='navy'> Simulación de procesos financieros. \n",
    "\n",
    "**Nombres:** #############.\n",
    "\n",
    "**Fecha:** XX de octubre del 201X.\n",
    "\n",
    "**Expediente** : XXX.\n",
    "**Profesor:** Oscar David Jaramillo Zuluaga.\n",
    "    \n",
    "**Link Github**: Link con el enlace del repositorio del creador del proyecto\n",
    "\n",
    "# Tarea X: Clase X"
   ]
  },
  {
   "cell_type": "markdown",
   "metadata": {},
   "source": [
    "## Enunciado de tarea (Transcibirlo)\n",
    "> Descripción de la tarea"
   ]
  },
  {
   "cell_type": "markdown",
   "metadata": {},
   "source": [
    "### Ejercicio 1: (enunciado) Transcribirlo"
   ]
  },
  {
   "cell_type": "markdown",
   "metadata": {},
   "source": [
    "Código de solución estudiante 1"
   ]
  },
  {
   "cell_type": "markdown",
   "metadata": {},
   "source": [
    "\n",
    "|$$ {\\large {i}} $$\t|$$ {\\large {x}} $$|$$ {\\large {f(x)}} $$\t|   \t|   \t|\n",
    "|:---:\t|:----:\t|:-------:\t|:---:\t|:---:\t|\n",
    "| $$ {\\large {0}} $$ \t| $$ {\\large {-1}} $$\t| $$ {\\large {.3678}} $$ \t|   \t|   \t|\n",
    "|  <span style=\"color:red\">$$ {\\large {1}} $$</span> \t| <span style=\"color:red\">$${\\large {-0.5}} $$</span> \t| <span style=\"color:red\">$${\\large {.7788}} $$</span>    \t|   \t|   \t|\n",
    "|  <span style=\"color:blue\">$${\\large { 2 }}$$</span> \t|  <span style=\"color:blue\">$${\\large { 0 }} $$</span>\t|     <span style=\"color:blue\">$${\\large { 1 }}$$</span>  \t|   \t|   \t|\n",
    "|  <span style=\"color:red\">$${\\large { 3 }}$$</span> \t| <span style=\"color:red\">$${\\large {-0.5}} $$</span> \t| <span style=\"color:red\">$${\\large {.7788}} $$</span>    \t|   \t|   \t|\n",
    "| $${\\large { 4 }}$$\t| $${\\large { 1 }}$$ \t|  $${\\large { .3678 }}$$\t|   \t|   \t|\n",
    "\n",
    "$$\n",
    "\\text{Cuadro 1: Tabla de valores de f(x)}\n",
    "$$\n",
    "\n"
   ]
  },
  {
   "cell_type": "markdown",
   "metadata": {},
   "source": [
    "$$\n",
    "\\begin{align}\n",
    "\\int_{-1}^1 e^{-x^2}dx\\approx \\frac{0,5}{3}[f(-1)+f(1)+4(\\color{red}{f(-0,5)+f(0,5)}) + 2 \\color{blue}{f(0)}]\\\\\n",
    "                     \\approx \\frac{0,5}{3}[0,3678+0,3678+4(\\color{red}{0,7788+0,778}) + 2\\cdot \\color{blue}{1}]\\approx 1,4943\n",
    "\\end{align}\n",
    "$$\n",
    "\n",
    "$$\n",
    "\\text{A modo de verificación, se calculará por software, el valor del área para n= 100, un valor mucho}\\\\ \\text{más elevado al que se utilizó anteriormente. Si lo calculado previamente es correcto, se esperaría que}\\\\ \\text{sea próximo al valor presentado a continuación para ser una buena aproximación.}\n",
    "$$\n",
    "$$\n",
    "\\int_{-1}^1 e^{-x^2}dx\\approx 1,4936\n",
    "$$\n"
   ]
  },
  {
   "cell_type": "markdown",
   "metadata": {},
   "source": [
    "Código de solución estudiante 2"
   ]
  },
  {
   "cell_type": "code",
   "execution_count": null,
   "metadata": {},
   "outputs": [],
   "source": [
    "# Código de solución estudiante 2\n",
    ".\n",
    ".\n",
    ".\n",
    ".\n"
   ]
  },
  {
   "cell_type": "markdown",
   "metadata": {},
   "source": [
    "### Respuesta planteada en el ejercicio usando (markdown)\n",
    " La respuesta es ........."
   ]
  }
 ],
 "metadata": {
  "kernelspec": {
   "display_name": "Python 3",
   "language": "python",
   "name": "python3"
  },
  "language_info": {
   "codemirror_mode": {
    "name": "ipython",
    "version": 3
   },
   "file_extension": ".py",
   "mimetype": "text/x-python",
   "name": "python",
   "nbconvert_exporter": "python",
   "pygments_lexer": "ipython3",
   "version": "3.9.1"
  }
 },
 "nbformat": 4,
 "nbformat_minor": 2
}
